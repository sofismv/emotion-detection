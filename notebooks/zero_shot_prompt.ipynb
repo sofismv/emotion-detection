{
  "cells": [
    {
      "cell_type": "code",
      "execution_count": 2,
      "id": "2540f34a-e618-4103-bcae-b19cc19ab193",
      "metadata": {},
      "outputs": [],
      "source": [
        "import os\n",
        "os.environ[\"CUDA_VISIBLE_DEVICES\"] = \"7\""
      ]
    },
    {
      "cell_type": "code",
      "execution_count": 3,
      "id": "3f2b43ae-bcac-4a4d-9023-814536c336c1",
      "metadata": {},
      "outputs": [],
      "source": [
        "import pandas as pd\n",
        "from transformers import (set_seed, AutoConfig, AutoModelForCausalLM,\n",
        "                          AutoTokenizer, \n",
        "                            BitsAndBytesConfig)\n",
        "import torch\n",
        "from datasets import load_dataset\n",
        "from tqdm import tqdm\n",
        "from sklearn.metrics import recall_score, precision_score, f1_score\n",
        "import numpy as np\n",
        "from sklearn.metrics.pairwise import cosine_similarity\n",
        "from sentence_transformers import SentenceTransformer"
      ]
    },
    {
      "cell_type": "code",
      "execution_count": 4,
      "id": "ef55c712-1638-4065-a5cb-ed5b8073baaa",
      "metadata": {},
      "outputs": [],
      "source": [
        "device = \"cuda\"\n",
        "model_name = \"yandex/YandexGPT-5-Lite-8B-instruct\""
      ]
    },
    {
      "cell_type": "code",
      "execution_count": 5,
      "id": "22b45373-2c15-40a9-bce3-f1b6238d1a68",
      "metadata": {},
      "outputs": [],
      "source": [
        "train = load_dataset(\"brighter-dataset/BRIGHTER-emotion-categories\", \"rus\", split=\"train\")"
      ]
    },
    {
      "cell_type": "code",
      "execution_count": 6,
      "id": "5cdfcfb6-eae4-46dc-822d-02ef4e9f6f09",
      "metadata": {},
      "outputs": [],
      "source": [
        "emotion_cols = ['anger', 'disgust', 'fear', 'joy', 'sadness', 'surprise']\n",
        "emotion_map = {\n",
        "    'anger': 'гнев',\n",
        "    'disgust': 'отвращение', \n",
        "    'fear': 'страх',\n",
        "    'joy': 'радость',\n",
        "    'sadness': 'грусть',\n",
        "    'surprise': 'удивление'\n",
        "}"
      ]
    },
    {
      "cell_type": "code",
      "execution_count": 7,
      "id": "44b73476-b556-46f5-8ae8-47569094c8e5",
      "metadata": {},
      "outputs": [],
      "source": [
        "def create_labels(examples):\n",
        "    labels = []\n",
        "    for i in range(len(examples['text'])):\n",
        "        label = [examples[col][i] for col in emotion_cols]\n",
        "        labels.append(label)\n",
        "    examples['labels'] = labels\n",
        "    return examples\n",
        "\n",
        "train = train.map(create_labels, batched=True)"
      ]
    },
    {
      "cell_type": "code",
      "execution_count": 8,
      "id": "361618a9-657f-4f34-ad77-f078bedfd324",
      "metadata": {
        "scrolled": true
      },
      "outputs": [
        {
          "data": {
            "application/vnd.jupyter.widget-view+json": {
              "model_id": "54ff81c7f629462680f754f62a46f317",
              "version_major": 2,
              "version_minor": 0
            },
            "text/plain": [
              "Loading checkpoint shards:   0%|          | 0/4 [00:00<?, ?it/s]"
            ]
          },
          "metadata": {},
          "output_type": "display_data"
        }
      ],
      "source": [
        "tokenizer = AutoTokenizer.from_pretrained(model_name)\n",
        "bnb_config = BitsAndBytesConfig(\n",
        "    load_in_4bit=True,\n",
        "    bnb_4bit_compute_dtype=torch.float16\n",
        ")\n",
        "model = AutoModelForCausalLM.from_pretrained(\n",
        "    model_name,\n",
        "    quantization_config=bnb_config,\n",
        "    use_cache=False,\n",
        "    trust_remote_code=True,\n",
        "    device_map=\"auto\"\n",
        ")"
      ]
    },
    {
      "cell_type": "code",
      "execution_count": 9,
      "id": "0b4a0ea0-b06b-42b9-8c5d-54ca20f3475a",
      "metadata": {},
      "outputs": [],
      "source": [
        "tokenizer.pad_token = tokenizer.eos_token"
      ]
    },
    {
      "cell_type": "code",
      "execution_count": 10,
      "id": "a54cad2b-fd03-4158-a698-f52508f2604d",
      "metadata": {},
      "outputs": [],
      "source": [
        "test = load_dataset(\"brighter-dataset/BRIGHTER-emotion-categories\", \"rus\", split=\"test\")"
      ]
    },
    {
      "cell_type": "code",
      "execution_count": 11,
      "id": "c524cdcc-c799-4ce7-8d27-5144b6f9f2f9",
      "metadata": {},
      "outputs": [],
      "source": [
        "seed = 42\n",
        "set_seed(seed)"
      ]
    },
    {
      "cell_type": "code",
      "execution_count": 12,
      "id": "2f0f1856-3fe7-4e3c-8ae6-7e2197398c70",
      "metadata": {},
      "outputs": [],
      "source": [
        "def create_prompt(query_text):\n",
        "    prompt = f\"\"\"Ты эксперт по анализу эмоций в тексте. \n",
        "    Определи, какие эмоции выражены в тексте из списка [гнев, отвращение, страх, радость, грусть, удивление.]\n",
        "    Эмоций может быть несколько, а может и вовсе не быть. Формат вывода: только названия эмоций. Если нет эмоций, то оставь пустой список.\n",
        "\n",
        "    ВАЖНЫЕ ПРАВИЛА:\n",
        "    - выбирай эмоцию, ТОЛЬКО если она выражена ЯВНО через конкретные слова, фразы или контекст\n",
        "    - НЕ додумывай скрытые эмоции - только то, что написано прямо\n",
        "    - При сомнениях не выбирай эмоцию\n",
        "    \n",
        "    Пример вывода: [гнев]\n",
        "    \"\"\"\n",
        "    prompt += f\"Проанализируй этот текст по этим критериям:\\n\"\n",
        "    prompt += f\"Текст: {query_text}\\n\"\n",
        "    prompt += f\"Ответ:\"\n",
        "    \n",
        "    return prompt\n"
      ]
    },
    {
      "cell_type": "code",
      "execution_count": 13,
      "id": "f907a188-25c6-4b31-9d45-8e76f9cc21e6",
      "metadata": {
        "scrolled": true
      },
      "outputs": [
        {
          "name": "stderr",
          "output_type": "stream",
          "text": [
            "  0%|          | 0/2000 [00:00<?, ?it/s]The attention mask is not set and cannot be inferred from input because pad token is same as eos token. As a consequence, you may observe unexpected behavior. Please pass your input's `attention_mask` to obtain reliable results.\n",
            "100%|██████████| 2000/2000 [09:09<00:00,  3.64it/s]\n"
          ]
        }
      ],
      "source": [
        "responses = []\n",
        "prompts = []\n",
        "\n",
        "for row in tqdm(test):\n",
        "    labels = []\n",
        "    \n",
        "    prompt = create_prompt(\n",
        "        row['text'], \n",
        "    )\n",
        "    \n",
        "    prompts.append(prompt)\n",
        "    \n",
        "    messages = [{\"role\": \"user\", \"content\": prompt}]\n",
        "    formatted_prompt = tokenizer.apply_chat_template(messages, tokenize=False)\n",
        "    \n",
        "    input_ids = tokenizer(formatted_prompt, return_tensors=\"pt\").input_ids.to(device)\n",
        "    outputs = model.generate(\n",
        "        input_ids=input_ids,\n",
        "        temperature=0.1,\n",
        "        do_sample=True,\n",
        "        top_k=1,\n",
        "        top_p=0.9,\n",
        "        max_new_tokens=512,\n",
        "        pad_token_id=tokenizer.eos_token_id\n",
        "    )\n",
        "\n",
        "    generated_text = tokenizer.batch_decode(outputs.detach().cpu().numpy(), skip_special_tokens=True)[0]\n",
        "    generated_ids = outputs[0][input_ids.shape[1]:]\n",
        "    response = tokenizer.decode(generated_ids, skip_special_tokens=True).strip()\n",
        "    responses.append(response)"
      ]
    },
    {
      "cell_type": "code",
      "execution_count": 14,
      "id": "dbc12f86-2a2b-48e2-a097-9b04450b928c",
      "metadata": {
        "scrolled": true
      },
      "outputs": [],
      "source": [
        "true_emotions = []"
      ]
    },
    {
      "cell_type": "code",
      "execution_count": 15,
      "id": "c383741a-bbb3-45a4-89a9-384f7126053c",
      "metadata": {},
      "outputs": [
        {
          "name": "stderr",
          "output_type": "stream",
          "text": [
            "2000it [00:00, 12765.83it/s]\n"
          ]
        }
      ],
      "source": [
        "for i, row in tqdm(enumerate(test)):\n",
        "    true_emotion = [row[col] for col in emotion_cols]\n",
        "    true_emotions.append(true_emotion)"
      ]
    },
    {
      "cell_type": "code",
      "execution_count": 16,
      "id": "d68ce811-bd31-44ee-b13d-9e89ba251b86",
      "metadata": {},
      "outputs": [],
      "source": [
        "emotion_values = list(emotion_map.values())\n",
        "\n",
        "def parse_response_to_binary(response: str) -> list[int]:\n",
        "    response = response.lower()\n",
        "    return [1 if emo in response else 0 for emo in emotion_values]"
      ]
    },
    {
      "cell_type": "code",
      "execution_count": 17,
      "id": "c9abb36d-f9e0-41a3-8813-e7b81ea921f9",
      "metadata": {},
      "outputs": [],
      "source": [
        "pred_emotions = [parse_response_to_binary(response) for response in responses]"
      ]
    },
    {
      "cell_type": "code",
      "execution_count": 18,
      "id": "b2136d68-c67d-4f9c-8864-e464794ecbe8",
      "metadata": {},
      "outputs": [
        {
          "name": "stdout",
          "output_type": "stream",
          "text": [
            "MICRO recall: 0.7996, precision: 0.8902, f1: 0.8425\n",
            "MACRO recall: 0.7794, precision: 0.9096, f1: 0.8281\n"
          ]
        }
      ],
      "source": [
        "for average in ['micro', 'macro']:\n",
        "    recall = recall_score(true_emotions, pred_emotions, average=average, zero_division=0)\n",
        "    precision = precision_score(true_emotions, pred_emotions, average=average, zero_division=0)\n",
        "    f1 = f1_score(true_emotions, pred_emotions, average=average, zero_division=0)\n",
        "    print(f'{average.upper()} recall: {recall:.4f}, precision: {precision:.4f}, f1: {f1:.4f}')"
      ]
    },
    {
      "cell_type": "code",
      "execution_count": 19,
      "id": "1c2f6462-ce06-4df0-aa29-27b29a62fa06",
      "metadata": {},
      "outputs": [
        {
          "name": "stdout",
          "output_type": "stream",
          "text": [
            "гнев: recall: 0.8982, precision: 0.8712, f1: 0.8845\n",
            "отвращение: recall: 0.6967, precision: 1.0000, f1: 0.8213\n",
            "страх: recall: 0.8889, precision: 0.9412, f1: 0.9143\n",
            "радость: recall: 0.8860, precision: 0.8814, f1: 0.8837\n",
            "грусть: recall: 0.7943, precision: 0.7943, f1: 0.7943\n",
            "удивление: recall: 0.5122, precision: 0.9692, f1: 0.6702\n"
          ]
        }
      ],
      "source": [
        "class_recall = recall_score(true_emotions, pred_emotions, average=None, zero_division=0)\n",
        "class_precision = precision_score(true_emotions, pred_emotions, average=None, zero_division=0)\n",
        "class_f1 = f1_score(true_emotions, pred_emotions, average=None, zero_division=0)\n",
        "\n",
        "for i, (eng_emotion, rus_emotion) in enumerate(emotion_map.items()):\n",
        "    print(f'{rus_emotion}: recall: {class_recall[i]:.4f}, precision: {class_precision[i]:.4f}, f1: {class_f1[i]:.4f}')"
      ]
    }
  ],
  "metadata": {
    "kernelspec": {
      "display_name": "python3.11.7",
      "language": "python",
      "name": "python3"
    },
    "language_info": {
      "codemirror_mode": {
        "name": "ipython",
        "version": 3
      },
      "file_extension": ".py",
      "mimetype": "text/x-python",
      "name": "python",
      "nbconvert_exporter": "python",
      "pygments_lexer": "ipython3",
      "version": "3.11.7"
    },
    "widgets": {
      "application/vnd.jupyter.widget-state+json": {
        "state": {}
      }
    }
  },
  "nbformat": 4,
  "nbformat_minor": 5
}
