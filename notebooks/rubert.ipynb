{
 "cells": [
  {
   "cell_type": "code",
   "execution_count": null,
   "metadata": {
    "colab": {
     "base_uri": "https://localhost:8080/"
    },
    "id": "Wjnx9IMwaaO_",
    "outputId": "0c3ffbf5-c7a5-4ecf-eb73-334d98b34968"
   },
   "outputs": [],
   "source": [
    "#!pip install -U datasets optuna"
   ]
  },
  {
   "cell_type": "code",
   "execution_count": null,
   "metadata": {},
   "outputs": [],
   "source": [
    "import os\n",
    "os.environ[\"WANDB_DISABLED\"] = \"true\"\n",
    "os.environ[\"CUDA_VISIBLE_DEVICES\"] = \"7\""
   ]
  },
  {
   "cell_type": "code",
   "execution_count": null,
   "metadata": {
    "id": "3QdfA7BFZ4Wo"
   },
   "outputs": [],
   "source": [
    "from datasets import load_dataset\n",
    "from transformers import set_seed, AutoTokenizer, AutoModelForSequenceClassification, TrainingArguments, Trainer, DataCollatorWithPadding\n",
    "import torch\n",
    "import numpy as np\n",
    "from sklearn.metrics import recall_score, precision_score, f1_score\n",
    "import optuna\n",
    "import pandas as pd"
   ]
  },
  {
   "cell_type": "code",
   "execution_count": null,
   "metadata": {},
   "outputs": [],
   "source": [
    "seed = 42\n",
    "set_seed(seed)"
   ]
  },
  {
   "cell_type": "code",
   "execution_count": null,
   "metadata": {
    "id": "wTujAixTZ8GR"
   },
   "outputs": [],
   "source": [
    "train = load_dataset(\"brighter-dataset/BRIGHTER-emotion-categories\", \"rus\", split=\"train\")\n",
    "val = load_dataset(\"brighter-dataset/BRIGHTER-emotion-categories\", \"rus\", split=\"dev\")\n",
    "test = load_dataset(\"brighter-dataset/BRIGHTER-emotion-categories\", \"rus\", split=\"test\")"
   ]
  },
  {
   "cell_type": "code",
   "execution_count": null,
   "metadata": {},
   "outputs": [],
   "source": [
    "emotion_cols = ['anger', 'fear', 'joy', 'disgust', 'sadness', 'surprise']"
   ]
  },
  {
   "cell_type": "code",
   "execution_count": null,
   "metadata": {},
   "outputs": [],
   "source": [
    "def create_labels(examples):\n",
    "    labels = []\n",
    "    for i in range(len(examples['text'])):\n",
    "        label = [float(examples[col][i]) for col in emotion_cols]\n",
    "        labels.append(label)\n",
    "    examples['labels'] = labels\n",
    "    return examples\n",
    "\n",
    "train = train.map(create_labels, batched=True)\n",
    "val = val.map(create_labels, batched=True)\n",
    "test = test.map(create_labels, batched=True)"
   ]
  },
  {
   "cell_type": "code",
   "execution_count": null,
   "metadata": {},
   "outputs": [],
   "source": [
    "model_name = \"DeepPavlov/rubert-base-cased-conversational\"\n",
    "tokenizer = AutoTokenizer.from_pretrained(model_name)"
   ]
  },
  {
   "cell_type": "code",
   "execution_count": null,
   "metadata": {
    "id": "BFazQwlZaA15"
   },
   "outputs": [],
   "source": [
    "def tokenize_function(examples):\n",
    "    return tokenizer(examples['text'], truncation=True, padding=False, max_length=512)\n",
    "\n",
    "train_tokenized = train.map(tokenize_function, batched=True)\n",
    "val_tokenized = val.map(tokenize_function, batched=True)"
   ]
  },
  {
   "cell_type": "code",
   "execution_count": null,
   "metadata": {
    "id": "wKe_qlzHaDOw"
   },
   "outputs": [],
   "source": [
    "train_tokenized.set_format(\"torch\", columns=[\"input_ids\", \"attention_mask\", \"labels\"])\n",
    "val_tokenized.set_format(\"torch\", columns=[\"input_ids\", \"attention_mask\", \"labels\"])"
   ]
  },
  {
   "cell_type": "code",
   "execution_count": null,
   "metadata": {
    "id": "rGAetkUKm_R0"
   },
   "outputs": [],
   "source": [
    "def compute_metrics(eval_pred):\n",
    "    predictions, labels = eval_pred\n",
    "    predictions = torch.sigmoid(torch.tensor(predictions)).numpy()\n",
    "    y_pred = predictions > 0.5\n",
    "\n",
    "    results = {}\n",
    "    for average in ['micro', 'macro']:\n",
    "        results[f'{average}_recall'] = recall_score(labels, y_pred, average=average, zero_division=0)\n",
    "        results[f'{average}_precision'] = precision_score(labels, y_pred, average=average, zero_division=0)\n",
    "        results[f'{average}_f1'] = f1_score(labels, y_pred, average=average, zero_division=0)\n",
    "\n",
    "    return results"
   ]
  },
  {
   "cell_type": "code",
   "execution_count": null,
   "metadata": {
    "id": "RYCgEtoOcOMV"
   },
   "outputs": [],
   "source": [
    "data_collator = DataCollatorWithPadding(tokenizer=tokenizer)"
   ]
  },
  {
   "cell_type": "code",
   "execution_count": null,
   "metadata": {
    "id": "I-3Xh5vLnFvz"
   },
   "outputs": [],
   "source": [
    "def objective(trial):\n",
    "    learning_rate = trial.suggest_float(\"learning_rate\", 1e-5, 5e-4, log=True)\n",
    "    batch_size = trial.suggest_categorical(\"batch_size\", [8, 16, 32])\n",
    "    weight_decay = trial.suggest_float(\"weight_decay\", 0.0, 0.3)\n",
    "    warmup_steps = trial.suggest_int(\"warmup_steps\", 0, 500)\n",
    "    num_epochs = trial.suggest_int(\"num_train_epochs\", 2, 7)\n",
    "\n",
    "    model = AutoModelForSequenceClassification.from_pretrained(\n",
    "        model_name,\n",
    "        num_labels=len(emotion_cols),\n",
    "        problem_type=\"multi_label_classification\"\n",
    "    )\n",
    "\n",
    "    training_args = TrainingArguments(\n",
    "        output_dir=f'./results/trial_{trial.number}',\n",
    "        num_train_epochs=num_epochs,\n",
    "        per_device_train_batch_size=batch_size,\n",
    "        per_device_eval_batch_size=batch_size,\n",
    "        learning_rate=learning_rate,\n",
    "        weight_decay=weight_decay,\n",
    "        warmup_steps=warmup_steps,\n",
    "        logging_steps=50,\n",
    "        eval_strategy=\"epoch\",\n",
    "        metric_for_best_model=\"eval_macro_f1\",\n",
    "        logging_dir=f'./logs/trial_{trial.number}',\n",
    "        save_strategy=\"no\",\n",
    "        report_to=None,\n",
    "        seed=seed,\n",
    "    )\n",
    "\n",
    "    trainer = Trainer(\n",
    "        model=model,\n",
    "        args=training_args,\n",
    "        train_dataset=train_tokenized,\n",
    "        eval_dataset=val_tokenized,\n",
    "        compute_metrics=compute_metrics,\n",
    "        data_collator=data_collator,\n",
    "    )\n",
    "\n",
    "    trainer.train()\n",
    "\n",
    "    eval_results = trainer.evaluate()\n",
    "\n",
    "    return eval_results[\"eval_macro_f1\"]"
   ]
  },
  {
   "cell_type": "code",
   "execution_count": null,
   "metadata": {
    "colab": {
     "base_uri": "https://localhost:8080/",
     "height": 1000
    },
    "id": "i459Ww7znaYf",
    "outputId": "06563092-44e8-415f-919e-0eb5b7e45b58"
   },
   "outputs": [],
   "source": [
    "study = optuna.create_study(direction=\"maximize\")\n",
    "study.optimize(objective, n_trials=20)\n",
    "\n",
    "print(\"\\nBest hyperparameters:\")\n",
    "print(study.best_params)\n",
    "print(f\"Best macro F1: {study.best_value:.4f}\")"
   ]
  },
  {
   "cell_type": "code",
   "execution_count": null,
   "metadata": {
    "id": "KpwnBA4pngFA"
   },
   "outputs": [],
   "source": [
    "best_params = study.best_params\n",
    "model = AutoModelForSequenceClassification.from_pretrained(\n",
    "    model_name,\n",
    "    num_labels=len(emotion_cols),\n",
    "    problem_type=\"multi_label_classification\"\n",
    ")\n",
    "\n",
    "training_args = TrainingArguments(\n",
    "    output_dir='./best_model',\n",
    "    num_train_epochs=best_params[\"num_train_epochs\"],\n",
    "    per_device_train_batch_size=best_params[\"batch_size\"],\n",
    "    per_device_eval_batch_size=best_params[\"batch_size\"],\n",
    "    learning_rate=best_params[\"learning_rate\"],\n",
    "    weight_decay=best_params[\"weight_decay\"],\n",
    "    warmup_steps=best_params[\"warmup_steps\"],\n",
    "    logging_steps=50,\n",
    "    eval_strategy=\"epoch\",\n",
    "    save_strategy=\"no\",\n",
    "    logging_dir='./logs/best_model',\n",
    "    seed=seed,\n",
    ")\n",
    "\n",
    "from transformers import DataCollatorWithPadding\n",
    "\n",
    "data_collator = DataCollatorWithPadding(tokenizer=tokenizer)\n",
    "\n",
    "trainer = Trainer(\n",
    "    model=model,\n",
    "    args=training_args,\n",
    "    train_dataset=train_tokenized,\n",
    "    eval_dataset=val_tokenized,\n",
    "    compute_metrics=compute_metrics,\n",
    "    data_collator=data_collator,\n",
    ")\n",
    "\n",
    "trainer.train()"
   ]
  },
  {
   "cell_type": "code",
   "execution_count": null,
   "metadata": {},
   "outputs": [],
   "source": [
    "def find_best_threshold(model, val_dataset, thresholds=np.arange(0.1, 0.9, 0.05)):\n",
    "    model.eval()\n",
    "    predictions = trainer.predict(val_dataset)\n",
    "    probs = torch.sigmoid(torch.tensor(predictions.predictions)).numpy()\n",
    "    true_labels = predictions.label_ids\n",
    "    best_threshold = 0.5\n",
    "    best_f1 = 0\n",
    "    print(\"Threshold optimization:\")\n",
    "    for threshold in thresholds:\n",
    "        y_pred = probs > threshold\n",
    "        f1_macro = f1_score(true_labels, y_pred, average='macro', zero_division=0)\n",
    "        print(f\"Threshold {threshold:.2f}: Macro F1 = {f1_macro:.4f}\")\n",
    "        if f1_macro > best_f1:\n",
    "            best_f1 = f1_macro\n",
    "            best_threshold = threshold\n",
    "    print(f\"\\nBest threshold: {best_threshold:.2f} (Macro F1: {best_f1:.4f})\")\n",
    "    return best_threshold"
   ]
  },
  {
   "cell_type": "code",
   "execution_count": null,
   "metadata": {
    "colab": {
     "base_uri": "https://localhost:8080/",
     "height": 356
    },
    "id": "4y6fDOtJaPUn",
    "outputId": "5900e4e0-b1a6-45e0-bae6-146f23d28583"
   },
   "outputs": [],
   "source": [
    "best_threshold = find_best_threshold(model, val_tokenized)"
   ]
  },
  {
   "cell_type": "code",
   "execution_count": null,
   "metadata": {
    "colab": {
     "base_uri": "https://localhost:8080/",
     "height": 49,
     "referenced_widgets": [
      "9fb30d0f79344f31b94aeee44a9d6f80",
      "1cc55b7bbe1343d59d3d4e8954ec9160",
      "dfc19e9af08c4afbb73dbc78b946d534",
      "3d9f092a4f964b2db730b6133ea655af",
      "1be3ef91765a47139fb65d12333456e6",
      "44fc950f24854d229cac262d8d58ac74",
      "b97c8c446c5147548a652db53b436fb7",
      "1369672c7b9148b6854193f03ecfd263",
      "89d1efbf37ae437f8bd1c694b7e1c926",
      "1a2ee13e358f4ae6a19a573dea7f2a2b",
      "3fad48d7fea24f15a614bda263557536"
     ]
    },
    "id": "DkC_7CvSaP0k",
    "outputId": "8ef2ee5e-11d2-4454-b15d-7ea3554d08c6"
   },
   "outputs": [],
   "source": [
    "test_tokenized = test.map(tokenize_function, batched=True)\n",
    "test_tokenized.set_format(\"torch\", columns=[\"input_ids\", \"attention_mask\", \"labels\"])\n",
    "\n",
    "test_predictions = trainer.predict(test_tokenized)\n",
    "test_probs = torch.sigmoid(torch.tensor(test_predictions.predictions)).numpy()\n",
    "test_pred_labels = test_probs > best_threshold\n",
    "true_test_labels = test_predictions.label_ids"
   ]
  },
  {
   "cell_type": "code",
   "execution_count": null,
   "metadata": {
    "colab": {
     "base_uri": "https://localhost:8080/"
    },
    "id": "-l5MntZBaRou",
    "outputId": "e4c124e9-e337-4484-84ba-b982d6f60516"
   },
   "outputs": [],
   "source": [
    "for average in ['micro', 'macro']:\n",
    "    recall = recall_score(true_test_labels, test_pred_labels, average=average, zero_division=0)\n",
    "    precision = precision_score(true_test_labels, test_pred_labels, average=average, zero_division=0)\n",
    "    f1 = f1_score(true_test_labels, test_pred_labels, average=average, zero_division=0)\n",
    "    print(f'{average.upper()} recall: {round(recall, 4)}, precision: {round(precision, 4)}, f1: {round(f1, 4)}')\n",
    "\n",
    "print(f\"\\nPer-class Results:\")\n",
    "class_recall = recall_score(true_test_labels, test_pred_labels, average=None, zero_division=0)\n",
    "class_precision = precision_score(true_test_labels, test_pred_labels, average=None, zero_division=0)\n",
    "class_f1 = f1_score(true_test_labels, test_pred_labels, average=None, zero_division=0)\n",
    "\n",
    "for i, emotion in enumerate(emotion_cols):\n",
    "    print(f'{emotion.upper()}: recall: {round(class_recall[i], 4)}, precision: {round(class_precision[i], 4)}, f1: {round(class_f1[i], 4)}')\n",
    "\n",
    "print(f\"\\nClass distribution in test set:\")\n",
    "for i, emotion in enumerate(emotion_cols):\n",
    "    true_count = int(true_test_labels[:, i].sum())\n",
    "    pred_count = int(test_pred_labels[:, i].sum())\n",
    "    total = len(true_test_labels)\n",
    "    print(f'{emotion.upper()}: true: {true_count}/{total} ({true_count/total:.1%}), predicted: {pred_count}/{total} ({pred_count/total:.1%})')"
   ]
  }
 ],
 "metadata": {
  "accelerator": "GPU",
  "colab": {
   "gpuType": "T4",
   "provenance": []
  },
  "kernelspec": {
   "display_name": "python3.11.7",
   "language": "python",
   "name": "python3"
  },
  "language_info": {
   "codemirror_mode": {
    "name": "ipython",
    "version": 3
   },
   "file_extension": ".py",
   "mimetype": "text/x-python",
   "name": "python",
   "nbconvert_exporter": "python",
   "pygments_lexer": "ipython3",
   "version": "3.11.7"
  },
  "widgets": {
   "application/vnd.jupyter.widget-state+json": {
    "1369672c7b9148b6854193f03ecfd263": {
     "model_module": "@jupyter-widgets/base",
     "model_module_version": "1.2.0",
     "model_name": "LayoutModel",
     "state": {
      "_model_module": "@jupyter-widgets/base",
      "_model_module_version": "1.2.0",
      "_model_name": "LayoutModel",
      "_view_count": null,
      "_view_module": "@jupyter-widgets/base",
      "_view_module_version": "1.2.0",
      "_view_name": "LayoutView",
      "align_content": null,
      "align_items": null,
      "align_self": null,
      "border": null,
      "bottom": null,
      "display": null,
      "flex": null,
      "flex_flow": null,
      "grid_area": null,
      "grid_auto_columns": null,
      "grid_auto_flow": null,
      "grid_auto_rows": null,
      "grid_column": null,
      "grid_gap": null,
      "grid_row": null,
      "grid_template_areas": null,
      "grid_template_columns": null,
      "grid_template_rows": null,
      "height": null,
      "justify_content": null,
      "justify_items": null,
      "left": null,
      "margin": null,
      "max_height": null,
      "max_width": null,
      "min_height": null,
      "min_width": null,
      "object_fit": null,
      "object_position": null,
      "order": null,
      "overflow": null,
      "overflow_x": null,
      "overflow_y": null,
      "padding": null,
      "right": null,
      "top": null,
      "visibility": null,
      "width": null
     }
    },
    "1a2ee13e358f4ae6a19a573dea7f2a2b": {
     "model_module": "@jupyter-widgets/base",
     "model_module_version": "1.2.0",
     "model_name": "LayoutModel",
     "state": {
      "_model_module": "@jupyter-widgets/base",
      "_model_module_version": "1.2.0",
      "_model_name": "LayoutModel",
      "_view_count": null,
      "_view_module": "@jupyter-widgets/base",
      "_view_module_version": "1.2.0",
      "_view_name": "LayoutView",
      "align_content": null,
      "align_items": null,
      "align_self": null,
      "border": null,
      "bottom": null,
      "display": null,
      "flex": null,
      "flex_flow": null,
      "grid_area": null,
      "grid_auto_columns": null,
      "grid_auto_flow": null,
      "grid_auto_rows": null,
      "grid_column": null,
      "grid_gap": null,
      "grid_row": null,
      "grid_template_areas": null,
      "grid_template_columns": null,
      "grid_template_rows": null,
      "height": null,
      "justify_content": null,
      "justify_items": null,
      "left": null,
      "margin": null,
      "max_height": null,
      "max_width": null,
      "min_height": null,
      "min_width": null,
      "object_fit": null,
      "object_position": null,
      "order": null,
      "overflow": null,
      "overflow_x": null,
      "overflow_y": null,
      "padding": null,
      "right": null,
      "top": null,
      "visibility": null,
      "width": null
     }
    },
    "1be3ef91765a47139fb65d12333456e6": {
     "model_module": "@jupyter-widgets/base",
     "model_module_version": "1.2.0",
     "model_name": "LayoutModel",
     "state": {
      "_model_module": "@jupyter-widgets/base",
      "_model_module_version": "1.2.0",
      "_model_name": "LayoutModel",
      "_view_count": null,
      "_view_module": "@jupyter-widgets/base",
      "_view_module_version": "1.2.0",
      "_view_name": "LayoutView",
      "align_content": null,
      "align_items": null,
      "align_self": null,
      "border": null,
      "bottom": null,
      "display": null,
      "flex": null,
      "flex_flow": null,
      "grid_area": null,
      "grid_auto_columns": null,
      "grid_auto_flow": null,
      "grid_auto_rows": null,
      "grid_column": null,
      "grid_gap": null,
      "grid_row": null,
      "grid_template_areas": null,
      "grid_template_columns": null,
      "grid_template_rows": null,
      "height": null,
      "justify_content": null,
      "justify_items": null,
      "left": null,
      "margin": null,
      "max_height": null,
      "max_width": null,
      "min_height": null,
      "min_width": null,
      "object_fit": null,
      "object_position": null,
      "order": null,
      "overflow": null,
      "overflow_x": null,
      "overflow_y": null,
      "padding": null,
      "right": null,
      "top": null,
      "visibility": null,
      "width": null
     }
    },
    "1cc55b7bbe1343d59d3d4e8954ec9160": {
     "model_module": "@jupyter-widgets/controls",
     "model_module_version": "1.5.0",
     "model_name": "HTMLModel",
     "state": {
      "_dom_classes": [],
      "_model_module": "@jupyter-widgets/controls",
      "_model_module_version": "1.5.0",
      "_model_name": "HTMLModel",
      "_view_count": null,
      "_view_module": "@jupyter-widgets/controls",
      "_view_module_version": "1.5.0",
      "_view_name": "HTMLView",
      "description": "",
      "description_tooltip": null,
      "layout": "IPY_MODEL_44fc950f24854d229cac262d8d58ac74",
      "placeholder": "​",
      "style": "IPY_MODEL_b97c8c446c5147548a652db53b436fb7",
      "value": "Map: 100%"
     }
    },
    "3d9f092a4f964b2db730b6133ea655af": {
     "model_module": "@jupyter-widgets/controls",
     "model_module_version": "1.5.0",
     "model_name": "HTMLModel",
     "state": {
      "_dom_classes": [],
      "_model_module": "@jupyter-widgets/controls",
      "_model_module_version": "1.5.0",
      "_model_name": "HTMLModel",
      "_view_count": null,
      "_view_module": "@jupyter-widgets/controls",
      "_view_module_version": "1.5.0",
      "_view_name": "HTMLView",
      "description": "",
      "description_tooltip": null,
      "layout": "IPY_MODEL_1a2ee13e358f4ae6a19a573dea7f2a2b",
      "placeholder": "​",
      "style": "IPY_MODEL_3fad48d7fea24f15a614bda263557536",
      "value": " 2000/2000 [00:00&lt;00:00, 7377.18 examples/s]"
     }
    },
    "3fad48d7fea24f15a614bda263557536": {
     "model_module": "@jupyter-widgets/controls",
     "model_module_version": "1.5.0",
     "model_name": "DescriptionStyleModel",
     "state": {
      "_model_module": "@jupyter-widgets/controls",
      "_model_module_version": "1.5.0",
      "_model_name": "DescriptionStyleModel",
      "_view_count": null,
      "_view_module": "@jupyter-widgets/base",
      "_view_module_version": "1.2.0",
      "_view_name": "StyleView",
      "description_width": ""
     }
    },
    "44fc950f24854d229cac262d8d58ac74": {
     "model_module": "@jupyter-widgets/base",
     "model_module_version": "1.2.0",
     "model_name": "LayoutModel",
     "state": {
      "_model_module": "@jupyter-widgets/base",
      "_model_module_version": "1.2.0",
      "_model_name": "LayoutModel",
      "_view_count": null,
      "_view_module": "@jupyter-widgets/base",
      "_view_module_version": "1.2.0",
      "_view_name": "LayoutView",
      "align_content": null,
      "align_items": null,
      "align_self": null,
      "border": null,
      "bottom": null,
      "display": null,
      "flex": null,
      "flex_flow": null,
      "grid_area": null,
      "grid_auto_columns": null,
      "grid_auto_flow": null,
      "grid_auto_rows": null,
      "grid_column": null,
      "grid_gap": null,
      "grid_row": null,
      "grid_template_areas": null,
      "grid_template_columns": null,
      "grid_template_rows": null,
      "height": null,
      "justify_content": null,
      "justify_items": null,
      "left": null,
      "margin": null,
      "max_height": null,
      "max_width": null,
      "min_height": null,
      "min_width": null,
      "object_fit": null,
      "object_position": null,
      "order": null,
      "overflow": null,
      "overflow_x": null,
      "overflow_y": null,
      "padding": null,
      "right": null,
      "top": null,
      "visibility": null,
      "width": null
     }
    },
    "89d1efbf37ae437f8bd1c694b7e1c926": {
     "model_module": "@jupyter-widgets/controls",
     "model_module_version": "1.5.0",
     "model_name": "ProgressStyleModel",
     "state": {
      "_model_module": "@jupyter-widgets/controls",
      "_model_module_version": "1.5.0",
      "_model_name": "ProgressStyleModel",
      "_view_count": null,
      "_view_module": "@jupyter-widgets/base",
      "_view_module_version": "1.2.0",
      "_view_name": "StyleView",
      "bar_color": null,
      "description_width": ""
     }
    },
    "9fb30d0f79344f31b94aeee44a9d6f80": {
     "model_module": "@jupyter-widgets/controls",
     "model_module_version": "1.5.0",
     "model_name": "HBoxModel",
     "state": {
      "_dom_classes": [],
      "_model_module": "@jupyter-widgets/controls",
      "_model_module_version": "1.5.0",
      "_model_name": "HBoxModel",
      "_view_count": null,
      "_view_module": "@jupyter-widgets/controls",
      "_view_module_version": "1.5.0",
      "_view_name": "HBoxView",
      "box_style": "",
      "children": [
       "IPY_MODEL_1cc55b7bbe1343d59d3d4e8954ec9160",
       "IPY_MODEL_dfc19e9af08c4afbb73dbc78b946d534",
       "IPY_MODEL_3d9f092a4f964b2db730b6133ea655af"
      ],
      "layout": "IPY_MODEL_1be3ef91765a47139fb65d12333456e6"
     }
    },
    "b97c8c446c5147548a652db53b436fb7": {
     "model_module": "@jupyter-widgets/controls",
     "model_module_version": "1.5.0",
     "model_name": "DescriptionStyleModel",
     "state": {
      "_model_module": "@jupyter-widgets/controls",
      "_model_module_version": "1.5.0",
      "_model_name": "DescriptionStyleModel",
      "_view_count": null,
      "_view_module": "@jupyter-widgets/base",
      "_view_module_version": "1.2.0",
      "_view_name": "StyleView",
      "description_width": ""
     }
    },
    "dfc19e9af08c4afbb73dbc78b946d534": {
     "model_module": "@jupyter-widgets/controls",
     "model_module_version": "1.5.0",
     "model_name": "FloatProgressModel",
     "state": {
      "_dom_classes": [],
      "_model_module": "@jupyter-widgets/controls",
      "_model_module_version": "1.5.0",
      "_model_name": "FloatProgressModel",
      "_view_count": null,
      "_view_module": "@jupyter-widgets/controls",
      "_view_module_version": "1.5.0",
      "_view_name": "ProgressView",
      "bar_style": "success",
      "description": "",
      "description_tooltip": null,
      "layout": "IPY_MODEL_1369672c7b9148b6854193f03ecfd263",
      "max": 2000,
      "min": 0,
      "orientation": "horizontal",
      "style": "IPY_MODEL_89d1efbf37ae437f8bd1c694b7e1c926",
      "value": 2000
     }
    }
   }
  }
 },
 "nbformat": 4,
 "nbformat_minor": 4
}
